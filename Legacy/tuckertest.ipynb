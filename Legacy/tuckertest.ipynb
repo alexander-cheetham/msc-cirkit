{
 "cells": [
  {
   "cell_type": "code",
   "execution_count": 1,
   "id": "00815e01-80cc-474e-a905-99f0c2af7d92",
   "metadata": {},
   "outputs": [],
   "source": [
    "import functools\n",
    "from cirkit.symbolic.circuit import Circuit\n",
    "from cirkit.templates.region_graph import RandomBinaryTree, RegionGraph\n",
    "from cirkit.symbolic.layers import CategoricalLayer, GaussianLayer\n",
    "from cirkit.symbolic.parameters import mixing_weight_factory\n",
    "from cirkit.templates.utils import (\n",
    "    Parameterization,\n",
    "    parameterization_to_factory\n",
    ")\n",
    "\n",
    "NUM_INPUT_UNITS = 5\n",
    "NUM_SUM_UNITS = 5\n",
    "\n",
    "def define_circuit_from_rg(rg: RegionGraph, sum_prod_layer: str = 'cp') -> Circuit:\n",
    "    # Here is where Overparameterization comes in\n",
    "    input_factory = lambda scope, num_units: GaussianLayer(\n",
    "        scope=scope,\n",
    "        num_output_units=num_units # Overparameterization\n",
    "    )\n",
    "\n",
    "    # We need to specify how to parameterize the sum layers\n",
    "    # Here we choose to initialize them by sampling from a normal distribution and use softmax as activation function.\n",
    "    sum_weight_param = Parameterization(activation='softmax', initialization='normal')\n",
    "    sum_weight_factory = parameterization_to_factory(sum_weight_param)\n",
    "\n",
    "    # Optionally, we can parameterize sum layers receiving input from more than one other layer differently\n",
    "    # If the below is not specified, then sum_weight_factory will be used.\n",
    "    # Instead, we choose to parameterize them such that they compute a weighted combinations of the input vectors.\n",
    "    # Sum layers of this kind are also referred to as mixing layers. In this particular case, sum layers receiving\n",
    "    # input from more than one layer are parameterized such that they compute a convex combination of the input vectors.\n",
    "    nary_sum_weight_factory = functools.partial(mixing_weight_factory, param_factory=sum_weight_factory)\n",
    "\n",
    "    circuit = rg.build_circuit(\n",
    "        input_factory=input_factory,\n",
    "        sum_weight_factory=sum_weight_factory,\n",
    "        nary_sum_weight_factory=nary_sum_weight_factory,\n",
    "        num_input_units=NUM_INPUT_UNITS,\n",
    "        num_sum_units=NUM_SUM_UNITS,\n",
    "        sum_product=sum_prod_layer\n",
    "    )\n",
    "    return circuit"
   ]
  },
  {
   "cell_type": "code",
   "execution_count": 9,
   "id": "db28b985-0368-492c-b802-6359d1ff3334",
   "metadata": {},
   "outputs": [
    {
     "name": "stdout",
     "output_type": "stream",
     "text": [
      "TorchCircuit(\n",
      "  (0): TorchGaussianLayer(\n",
      "    folds: 2  variables: 1  output-units: 5\n",
      "    input-shape: (2, 1, -1, 1)\n",
      "    output-shape: (2, -1, 5)\n",
      "    (mean): TorchParameter(\n",
      "      shape: (2, 5)\n",
      "      (0): TorchTensorParameter(output-shape: (2, 5))\n",
      "    )\n",
      "    (stddev): TorchParameter(\n",
      "      shape: (2, 5)\n",
      "      (0): TorchTensorParameter(output-shape: (2, 5))\n",
      "      (1): TorchScaledSigmoidParameter(\n",
      "        input-shapes: [(2, 5)]\n",
      "        output-shape: (2, 5)\n",
      "      )\n",
      "    )\n",
      "  )\n",
      "  (1): TorchKroneckerLayer(\n",
      "    folds: 1  arity: 2  input-units: 5  output-units: 25\n",
      "    input-shape: (1, 2, -1, 5)\n",
      "    output-shape: (1, -1, 25)\n",
      "  )\n",
      "  (2): TorchSumLayer(\n",
      "    folds: 1  arity: 1  input-units: 25  output-units: 1\n",
      "    input-shape: (1, 1, -1, 25)\n",
      "    output-shape: (1, -1, 1)\n",
      "    (weight): TorchParameter(\n",
      "      shape: (1, 1, 25)\n",
      "      (0): TorchTensorParameter(output-shape: (1, 1, 25))\n",
      "      (1): TorchSoftmaxParameter(\n",
      "        input-shapes: [(1, 1, 25)]\n",
      "        output-shape: (1, 1, 25)\n",
      "      )\n",
      "    )\n",
      "  )\n",
      ")\n"
     ]
    }
   ],
   "source": [
    "from cirkit.templates.region_graph import RandomBinaryTree\n",
    "\n",
    "from cirkit.pipeline import compile\n",
    "from cirkit.pipeline import PipelineContext\n",
    "\n",
    "\n",
    "ctx = PipelineContext(\n",
    "    backend='torch',      # Use the PyTorch backend\n",
    "    # Specify the backend compilation flags next\n",
    "    semiring='lse-sum',   # Use the 'lse-sum' semiring\n",
    "    fold=True,            # Enable circuit folding\n",
    "    # -------- Enable layer optimizations -------- #\n",
    "    optimize=False,\n",
    "    # -------------------------------------------- #\n",
    ")\n",
    "\n",
    "with ctx:\n",
    "    rnd = RandomBinaryTree(2, depth=None, num_repetitions=1)\n",
    "    circuit = define_circuit_from_rg(rnd, 'tucker')\n",
    "    cc = ctx.compile(circuit)\n",
    "    print(cc)"
   ]
  },
  {
   "cell_type": "code",
   "execution_count": 7,
   "id": "bb47d98a-86ab-40f7-b0bd-9410bb83ecf7",
   "metadata": {},
   "outputs": [
    {
     "name": "stdout",
     "output_type": "stream",
     "text": [
      "Counter({'ModuleList': 4, 'TorchParameter': 3, 'TorchTensorParameter': 3, 'ParameterAddressBook': 3, 'TorchCircuit': 1, 'TorchGaussianLayer': 1, 'TorchScaledSigmoidParameter': 1, 'TorchTuckerLayer': 1, 'TorchSoftmaxParameter': 1, 'LayerAddressBook': 1})\n"
     ]
    }
   ],
   "source": [
    "from collections import Counter\n",
    "print(Counter(type(m).__name__ for m in cc.modules()))"
   ]
  }
 ],
 "metadata": {
  "kernelspec": {
   "display_name": "Python 3 (ipykernel)",
   "language": "python",
   "name": "python3"
  },
  "language_info": {
   "codemirror_mode": {
    "name": "ipython",
    "version": 3
   },
   "file_extension": ".py",
   "mimetype": "text/x-python",
   "name": "python",
   "nbconvert_exporter": "python",
   "pygments_lexer": "ipython3",
   "version": "3.12.10"
  }
 },
 "nbformat": 4,
 "nbformat_minor": 5
}
