{
 "cells": [
  {
   "cell_type": "markdown",
   "id": "4ed7c85f",
   "metadata": {},
   "source": [
    "# Kronecker Products vs Nyström Style Approximation"
   ]
  },
  {
   "cell_type": "markdown",
   "id": "d62f1406",
   "metadata": {
    "editable": true,
    "slideshow": {
     "slide_type": ""
    },
    "tags": []
   },
   "source": [
    "## Problem Setup: Kronecker-Structured Weight Matrix\n",
    "In an *unsquared* probabilistic circuit the `TorchSumLayer` is parameterised by a weight matrix\n",
    "$\\mathbf{W}_{\\text{base}} \\in \\mathbb{R}^{K_o \\times K_i}.$ Where, $K_o$ is the number of outputs to the sum layer and $K_i$ is the number of inputs in the input layer.\n",
    "\n",
    "Applying the **squaring operator** (Loconte et al., 2024) duplicates the mixture and multiplies the two copies element‑wise.  At the level of a single sum layer this is equivalent to replacing the original weight matrix by the Kronecker product of the matrix with **itself**:\n",
    "\n",
    "$\\boxed{\\mathbf{W}_{} = \\mathbf{W}_{\\text{base}} \\,\\otimes\\, \\mathbf{W}_{\\text{base}} \\in \\mathbb{R}^{K_o^2 \\times K_i^2}}.$\n",
    "\n",
    "Hence the two factor matrices are identical:\n",
    "$\\mathbf{A}=\\mathbf{B}=\\mathbf{W}_{\\text{base}}.$\n",
    "\n",
    "* **Input dimension.**  Each original input unit now participates in every ordered pair, giving \\$K\\_i^2\\$ inputs.\n",
    "* **Output dimension.**  Each original sum unit is paired with every other, giving \\$K\\_o^2\\$ outputs.\n",
    "* **Arity.**  If the unsquared layer had arity \\$H\\$, the squared layer has arity \\$2H\\$ because the two identical branches are concatenated.\n",
    "\n",
    "The result is a *subtractive mixture*: negative weights are permitted in \\$\\mathbf{W}\\_{\\text{base}}\\$, yet the overall network remains non‑negative because probabilities are squared at the root (see Loconte et al., 2024).\n",
    "\n",
    "---\n",
    "## Nyström Approximation Framework\n",
    "\n",
    "Following Nemtsov, Averbuch & Schclar (2016), we extend the classical Nyström method from symmetric matrices to arbitrary rectangular matrices by operating in the singular-value domain. For the weight matrix $\\mathbf{W} \\in \\mathbb{R}^{K_o \\times K_i}$, we partition:\n",
    "\n",
    "$\\mathbf{W} = \\begin{bmatrix} \\mathbf{A}_W & \\mathbf{B}_W\\\\ \\mathbf{F}_W & \\mathbf{C}_W \\end{bmatrix}$\n",
    "\n",
    "where:\n",
    "- $\\mathbf{A}_W \\in \\mathbb{R}^{s \\times s}$ is the pivot block (top-left corner)\n",
    "- $\\mathbf{B}_W \\in \\mathbb{R}^{s \\times (K_i-s)}$ contains the remaining top rows\n",
    "- $\\mathbf{F}_W \\in \\mathbb{R}^{(K_o-s) \\times s}$ contains the remaining left columns\n",
    "- $\\mathbf{C}_W \\in \\mathbb{R}^{(K_o-s) \\times (K_i-s)}$ is the out-of-sample block\n",
    "\n",
    "### Step 1: Pivot-Block SVD\n",
    "Compute the rank-$s$ singular value decomposition of the pivot block:\n",
    "$$\\mathbf{A}_W = \\mathbf{U}\\boldsymbol{\\Lambda}\\mathbf{H}^{\\top}$$\n",
    "where $\\mathbf{U}, \\mathbf{H} \\in \\mathbb{R}^{s \\times s}$ are unitary matrices and $\\boldsymbol{\\Lambda} = \\text{diag}(\\lambda_1, \\ldots, \\lambda_s)$ with $\\lambda_i > 0$.\n",
    "\n",
    "### Step 2: Extending Singular Vectors\n",
    "Extend the left singular vectors:\n",
    "$\\tilde{\\mathbf{U}} = \\mathbf{F}_W \\mathbf{H} \\boldsymbol{\\Lambda}^{-1} \\in \\mathbb{R}^{(K_o-s) \\times s}$\n",
    "\n",
    "Extend the right singular vectors:\n",
    "$\\tilde{\\mathbf{H}} = \\boldsymbol{\\Lambda}^{-1} \\mathbf{U}^{\\top} \\mathbf{B}_W \\in \\mathbb{R}^{(K_i-s) \\times s}$\n",
    "\n",
    "### Step 3: Assembling the Nyström Approximation\n",
    "Construct the extended matrices:\n",
    "$$\\hat{\\mathbf{U}} = \\begin{bmatrix} \\mathbf{U}\\\\ \\tilde{\\mathbf{U}} \\end{bmatrix}, \\quad \\hat{\\mathbf{H}} = \\begin{bmatrix} \\mathbf{H}\\\\ \\tilde{\\mathbf{H}} \\end{bmatrix}$$\n",
    "\n",
    "The Nyström approximation becomes:\n",
    "$$\\boxed{\\hat{\\mathbf{W}} = \\begin{bmatrix} \\mathbf{A}_W & \\mathbf{B}_W\\\\ \\mathbf{F}_W & \\mathbf{F}_W \\mathbf{A}_W^{+} \\mathbf{B}_W \\end{bmatrix}}$$\n",
    "\n",
    "where $\\mathbf{A}_W^{+}$ is the Moore–Penrose pseudo-inverse. This can be written compactly as:\n",
    "$$\\hat{\\mathbf{W}} = \\begin{bmatrix} \\mathbf{A}_W\\\\ \\mathbf{F}_W \\end{bmatrix} \\mathbf{A}_W^{+} \\begin{bmatrix} \\mathbf{A}_W & \\mathbf{B}_W \\end{bmatrix}$$\n",
    "\n",
    "## Low-Rank Factorization for Efficient Computation\n",
    "\n",
    "The Nyström approximation yields a natural low-rank factorization:\n",
    "$\\hat{\\mathbf{W}} = \\mathbf{U}_{lr} \\mathbf{V}_{lr}^T$\n",
    "\n",
    "where:\n",
    "- $\\mathbf{U}_{lr} = \\begin{bmatrix} \\mathbf{A}_W\\\\ \\mathbf{F}_W \\end{bmatrix} \\in \\mathbb{R}^{K_o \\times s}$\n",
    "- $\\mathbf{V}_{lr} = \\begin{bmatrix} \\mathbf{A}_W & \\mathbf{B}_W \\end{bmatrix} (\\mathbf{A}_W^{+})^T \\in \\mathbb{R}^{K_i \\times s}$\n",
    "\n",
    "## Forward Pass Implementation\n",
    "\n",
    "The core computation in `TorchSumLayer.forward()`:\n",
    "$\\mathbf{Y} = \\mathbf{X} \\hat{\\mathbf{W}}^T = \\mathbf{X} \\mathbf{V}_{lr} \\mathbf{U}_{lr}^T$\n",
    "\n",
    "is efficiently computed in two stages:\n",
    "1. $\\mathbf{Z} = \\mathbf{X} \\mathbf{V}_{lr} \\in \\mathbb{R}^{FB \\times s}$\n",
    "2. $\\mathbf{Y} = \\mathbf{Z} \\mathbf{U}_{lr}^T \\in \\mathbb{R}^{FB \\times K_o}$\n",
    "\n",
    "where $FB$ is the batch size.\n",
    "\n",
    "## Computational Benefits\n",
    "\n",
    "### Memory Reduction\n",
    "The approximation reduces storage from $\\mathcal{O}(K_o \\cdot K_i)$ to $\\mathcal{O}(s \\cdot (K_o + K_i))$:\n",
    "$\\text{Memory Ratio} = \\frac{s \\cdot (K_o + K_i)}{K_o \\cdot K_i}$\n",
    "\n",
    "### Computational Speedup  \n",
    "FLOPs reduce from $\\mathcal{O}(FB \\cdot K_o \\cdot K_i)$ to $\\mathcal{O}(FB \\cdot s \\cdot K_i) + \\mathcal{O}(FB \\cdot s \\cdot K_o)$:\n",
    "$\\text{FLOP Ratio} = \\frac{s \\cdot K_i + s \\cdot K_o}{K_o \\cdot K_i} = \\frac{s \\cdot (K_i + K_o)}{K_o \\cdot K_i}$\n",
    "\n",
    "For $s \\ll \\min(K_o, K_i)$, this provides significant computational savings while preserving the essential spectral structure of the Kronecker-product weight matrix $\\mathbf{W} = \\mathbf{A} \\otimes \\mathbf{B}$."
   ]
  },
  {
   "cell_type": "markdown",
   "id": "bb67cf1a",
   "metadata": {
    "editable": true,
    "slideshow": {
     "slide_type": ""
    },
    "tags": []
   },
   "source": [
    "\n",
    "### 2&nbsp;&nbsp;`TorchKroneckerParameter.forward` preserves tensor semantics \n",
    "\n",
    "The previous cell constructs a learnable Kronecker module, moves **all** parameters to the chosen\n",
    "device, performs a forward pass, and prints metadata.  \n",
    "The `assert`s demonstrate that:\n",
    "\n",
    "* Inputs and output are of type `torch.Tensor`.\n",
    "* No hidden CPU–GPU transfers are introduced.\n"
   ]
  },
  {
   "cell_type": "code",
   "execution_count": 1,
   "id": "ac9ca6b5",
   "metadata": {},
   "outputs": [
    {
     "name": "stdout",
     "output_type": "stream",
     "text": [
      "Using cuda\n",
      "x1: shape=(4, 2, 3), device=cuda:0, dtype=torch.float32\n",
      "x2: shape=(4, 3, 2), device=cuda:0, dtype=torch.float32\n",
      "y : shape=(4, 6, 6), device=cuda:0, dtype=torch.float32\n"
     ]
    }
   ],
   "source": [
    "\n",
    "import torch\n",
    "from cirkit.backend.torch.parameters.nodes import TorchKroneckerParameter\n",
    "\n",
    "# 1 Pick the device\n",
    "device = \"cuda\" if torch.cuda.is_available() else \"cpu\"\n",
    "print(\"Using\", device)\n",
    "\n",
    "# 2 Create the parameterisation module\n",
    "p = TorchKroneckerParameter(\n",
    "    in_shape1=(2, 3),\n",
    "    in_shape2=(3, 2),\n",
    "    num_folds=4,\n",
    ").to(device)\n",
    "\n",
    "# 3 Generate inputs\n",
    "x1 = torch.randn(4, 2, 3, device=device)\n",
    "x2 = torch.randn(4, 3, 2, device=device)\n",
    "\n",
    "# 4 Forward pass\n",
    "y = p.forward(x1, x2)\n",
    "\n",
    "# 5 Inspect shapes, devices and dtypes\n",
    "def info(label, t):\n",
    "    print(f\"{label}: shape={tuple(t.shape)}, device={t.device}, dtype={t.dtype}\")\n",
    "\n",
    "info(\"x1\", x1)\n",
    "info(\"x2\", x2)\n",
    "info(\"y \", y)\n",
    "\n",
    "# Lightweight proof of tensor properties\n",
    "assert x1.device == y.device == x2.device\n",
    "assert x1.dtype  == y.dtype  == x2.dtype\n"
   ]
  },
  {
   "cell_type": "markdown",
   "id": "368451f7-f6dd-4e1f-b95f-8c835c32b6b2",
   "metadata": {},
   "source": [
    "### Construct a Demo Squared Circuit"
   ]
  },
  {
   "cell_type": "code",
   "execution_count": 2,
   "id": "750d54a8-33d3-400e-b9fe-9f0b64d5c837",
   "metadata": {},
   "outputs": [
    {
     "name": "stdout",
     "output_type": "stream",
     "text": [
      "Structural properties:\n",
      "  - Smoothness:              True\n",
      "  - Decomposability:         True\n",
      "  - Structured‑decomposable: True\n",
      "TorchKroneckerParameter(\n",
      "  input-shapes: [(1, 50, 50), (1, 50, 50)]\n",
      "  output-shape: (1, 2500, 2500)\n",
      ")\n"
     ]
    }
   ],
   "source": [
    "import cirkit.symbolic.functional as SF\n",
    "from cirkit.symbolic.io import plot_circuit\n",
    "from helpers import define_circuit_one_sum\n",
    "NUM_INPUT_UNITS = 50\n",
    "NUM_SUM_UNITS   = 50\n",
    "\n",
    "net = define_circuit_one_sum(NUM_INPUT_UNITS, NUM_SUM_UNITS)\n",
    "\n",
    "from cirkit.pipeline import PipelineContext\n",
    "ctx = PipelineContext(backend=\"torch\", semiring=\"sum-product\",\n",
    "                      fold=False, optimize=False)\n",
    "cc = ctx.compile(net).cpu().eval()\n",
    "\n",
    "print(\"Structural properties:\")\n",
    "print(f\"  - Smoothness:              {net.is_smooth}\")\n",
    "print(f\"  - Decomposability:         {net.is_decomposable}\")\n",
    "print(f\"  - Structured‑decomposable: {net.is_structured_decomposable}\")\n",
    "\n",
    "# Construct the circuit computing Z, i.e., the integral of |c(X)|^2 over the complete domain of X\n",
    "symbolic_circuit_partition_func = SF.multiply(net, net)\n",
    "plot_circuit(symbolic_circuit_partition_func)\n",
    "csc = ctx.compile(symbolic_circuit_partition_func)\n",
    "kronparameter = csc.layers[1].weight._nodes[4]\n",
    "print(kronparameter)"
   ]
  },
  {
   "cell_type": "markdown",
   "id": "8226e60f-1645-43c9-a6dd-eba08732be03",
   "metadata": {},
   "source": [
    "### Conditions for an accurate Nyström approximation (even for rectangular matrices)\n",
    " <font color='red'>Note that **NO** analysis on the structure of these matrices during and after training is conducted here</font>\n",
    "\n",
    "> **Nemtsov, A.; Averbuch, A.; Schclar, A.**  \n",
    "> *Matrix Compression using the Nyström Method* (Intelligent Data Analysis 20 (5), 2016) [[DOI:10.3233/IDA-160854](https://doi.org/10.3233/IDA-160854)]   \n",
    "> “Experiments have been performed on real-world kernels and random general matrices. These show that the algorithm performs well **when the spectrum of the matrix decays quickly** and **the sample is sufficiently large** to capture most of the energy of the matrix … Another experiment showed that the **non-singularity of the sample matrix** (as measured by the magnitude of the smallest singular value) is **exponentially inversely related to the approximation error**.”  \n",
    "\n",
    "**Why these three checks matter (square *and* rectangular versions)**  \n",
    "\n",
    "| Diagnostic | What to look for | Why it matters for Nyström |\n",
    "|------------|-----------------|----------------------------|\n",
    "| **Fast spectral decay** | Clear elbow / steep drop in the scree plot; low effective rank *$K_{eff}$*. | Nyström only needs to reconstruct the leading sub-space; a short tail keeps the approximation error small. |\n",
    "| **Sample size ≥ *$K_{eff}$*** | Sketch (number of sampled cols/rows) at least as large as *$K_{eff}$*. | Ensures the sketch spans the dominant directions that carry ≥ 95 % of the energy. |\n",
    "| **Non-singular sketch** | Smallest singular value σ_min of the sketch not near zero. | A well-conditioned pseudo-inverse keeps the reconstruction stable; empirically the error decays ∝ exp(−σ_min). |\n",
    "\n",
    "Generalised Nyström algorithms for **non-square matrices** satisfy the *same* error bounds and therefore rely on the same three conditions (see Nakatsukasa 2020 §1 for a modern analysis).\n",
    "\n",
    "> ✅ If your tensor passes all three tests, you can confidently apply the (generalised) Nyström method for a fast, accurate low-rank approximation.\n"
   ]
  },
  {
   "cell_type": "code",
   "execution_count": 3,
   "id": "0730ba69-ad6f-471f-899d-86ae3c612579",
   "metadata": {},
   "outputs": [
    {
     "name": "stdout",
     "output_type": "stream",
     "text": [
      "torch.Size([2500, 2500])\n"
     ]
    },
    {
     "data": {
      "image/png": "[encoded data removed]",
      "text/plain": [
       "<Figure size 640x480 with 2 Axes>"
      ]
     },
     "metadata": {},
     "output_type": "display_data"
    },
    {
     "name": "stdout",
     "output_type": "stream",
     "text": [
      "effective rank k_eff = 687\n"
     ]
    }
   ],
   "source": [
    "import torch\n",
    "from helpers import spectrum_diagnostics\n",
    "# extract the weight tensor from the squared circuit torch sum layer\n",
    "with torch.no_grad():\n",
    "    K = csc.layers[1].weight().squeeze().clone() \n",
    "    print(K.shape)\n",
    "# spectrum diagnostics\n",
    "k_eff = spectrum_diagnostics(K, energy_thresh=0.95)\n",
    "print(f\"effective rank k_eff = {k_eff}\")\n"
   ]
  },
  {
   "cell_type": "markdown",
   "id": "6db84bb6",
   "metadata": {},
   "source": [
    "\n",
    "### 3&nbsp;&nbsp;A minimal Nyström helper\n",
    "\n",
    "`nystrom_approximation` relies on the **batched** `torch.linalg.pinv` (available since PyTorch 1.9)\n",
    "and produces a rank‑`d` symmetric positive‑semidefinite matrix.\n",
    "\n",
    "For large \\(D\\) and modest \\(d\\ll D\\) we reduce\n",
    "\n",
    "* **Compute** from $\\mathcal{O}(D^3)$ to $\\mathcal{O}(d^2D)$.\n",
    "* **Memory** from $\\mathcal{O}(D^2)$ to $\\mathcal{O}(dD)$.\n"
   ]
  },
  {
   "cell_type": "markdown",
   "id": "aa16a673-3c23-4c8b-b19a-61bca4bf0c55",
   "metadata": {},
   "source": [
    "### GPU Nystrom Implementation"
   ]
  },
  {
   "cell_type": "code",
   "execution_count": 4,
   "id": "3256241c-38fb-4a83-ae36-fe74da60e36d",
   "metadata": {},
   "outputs": [],
   "source": [
    "import torch\n",
    "from typing import Union, Sequence\n",
    "\n",
    "def nystrom_approximation_general_gpu(\n",
    "    M: torch.Tensor,\n",
    "    idx: Union[torch.Tensor, Sequence[int]]\n",
    ") -> torch.Tensor:\n",
    "    \"\"\"\n",
    "    Nyström approximation of a general (possibly rectangular) matrix M\n",
    "    using a *specified* set of pivot indices.\n",
    "\n",
    "    Parameters\n",
    "    ----------\n",
    "    M   : (m, n) tensor\n",
    "          Dense matrix (need not be square nor symmetric).\n",
    "    idx : 1-D tensor or sequence of int, length s\n",
    "          Indices (0-based) that select both the pivot *rows* and *columns*.\n",
    "          These will form the s × s core block A_M.\n",
    "\n",
    "    Returns\n",
    "    -------\n",
    "    torch.Tensor\n",
    "        Nyström approximation \\\\hat M of shape (m, n):\n",
    "\n",
    "            \\\\hat M = \\\\begin{bmatrix}\n",
    "                           A_M & B_M \\\\\\\\\n",
    "                           F_M & F_M A_M^{+} B_M\n",
    "                       \\\\end{bmatrix} ,\n",
    "\n",
    "        where the blocks are defined by the chosen indices and\n",
    "        A_M^{+} is the Moore–Penrose pseudo-inverse of A_M.\n",
    "    \"\"\"\n",
    "    with torch.no_grad():\n",
    "        # --- validate & coerce -------------------------------------------------\n",
    "        idx = torch.as_tensor(idx, dtype=torch.long, device=M.device)\n",
    "        if idx.ndim != 1:\n",
    "            raise ValueError(\"`idx` must be a 1-D vector of indices.\")\n",
    "        m, n = M.shape\n",
    "        s = idx.numel()\n",
    "        if s == 0:\n",
    "            raise ValueError(\"`idx` cannot be empty.\")\n",
    "        if torch.any(idx < 0) or torch.any(idx >= m) or torch.any(idx >= n):\n",
    "            raise IndexError(\"some indices lie outside the matrix dimensions.\")\n",
    "        if s >= min(m, n):\n",
    "            return M        # nothing to approximate; keep original\n",
    "    \n",
    "        # --- complementary index views (no large allocations) -----------------\n",
    "        mask_r = torch.ones(m, dtype=torch.bool, device=M.device)\n",
    "        mask_c = torch.ones(n, dtype=torch.bool, device=M.device)\n",
    "        mask_r[idx] = False\n",
    "        mask_c[idx] = False\n",
    "        comp_r = torch.nonzero(mask_r, as_tuple=False).squeeze(1)\n",
    "        comp_c = torch.nonzero(mask_c, as_tuple=False).squeeze(1)\n",
    "    \n",
    "        # --- tiny pivot block & pseudo-inverse --------------------------------\n",
    "        A = M[idx.unsqueeze(1), idx]                 # (s, s)   view\n",
    "        A_pinv = torch.linalg.pinv(A)                # (s, s)   new (small)\n",
    "    \n",
    "        # --- top-right slice B (view) + intermediate K = A⁺ B -----------------\n",
    "        B  = M[idx.unsqueeze(1), comp_c]             # (s, n-s) view\n",
    "        K  = A_pinv @ B                              # (s, n-s) temp ❶\n",
    "    \n",
    "        # --- bottom-left slice F (view) ---------------------------------------\n",
    "        F = M[comp_r.unsqueeze(1), idx]              # (m-s, s) view\n",
    "    \n",
    "        # --- bottom-right block: F K  (single GEMM) ---------------------------\n",
    "        M[comp_r.unsqueeze(1), comp_c] = F @ K       # result written\n",
    "    \n",
    "        # --- top-left block A was already correct, but make sure contiguous --- \n",
    "        # (optional; remove if you don’t care about non-contiguous strides)\n",
    "        # M[idx.unsqueeze(1), idx] = A               # identical values\n",
    "    \n",
    "        # --- remaining two off-diagonal blocks need writing -------------------\n",
    "        M[idx.unsqueeze(1), comp_c]  = B             # top-right\n",
    "        M[comp_r.unsqueeze(1), idx]  = F             # bottom-left\n",
    "\n",
    "\n",
    "    return M\n"
   ]
  },
  {
   "cell_type": "code",
   "execution_count": 5,
   "id": "4006e1e7-d93d-4184-920e-e3c2a5741ab6",
   "metadata": {},
   "outputs": [
    {
     "name": "stdout",
     "output_type": "stream",
     "text": [
      "Original shape : torch.Size([2500, 2500])\n",
      "Approx shape   : torch.Size([2500, 2500])\n",
      "Fro-norm error : 5.074024677276611\n"
     ]
    }
   ],
   "source": [
    "import torch\n",
    "from helpers import nystrom_approximation_general_unopt\n",
    "K = csc.layers[1].weight().squeeze().clone() \n",
    "# --- Choose landmark indices ----------------------------------------------\n",
    "# Must be valid for BOTH rows and columns; here we take 3 landmarks.\n",
    "pivot_idx = [0, 3]                   \n",
    "K_cpu = K.clone().detach().to(\"cpu\", non_blocking=True)\n",
    "# --- Nyström approximation -------------------------------------------------\n",
    "K_hat = nystrom_approximation_general_unopt(K, pivot_idx)\n",
    "K_GPU = nystrom_approximation_general_gpu(K,pivot_idx)\n",
    "# --- Checks ----------------------------------------------------------------\n",
    "print(\"Original shape :\", K.shape)\n",
    "print(\"Approx shape   :\", K_hat.shape)\n",
    "print(\"Fro-norm error :\", (K_cpu - K_GPU).norm().item())\n",
    "# print(K_cpu)\n",
    "# print(\"-------\")\n",
    "# print(K_hat)\n",
    "# # Boolean matrix: True where entries differ (within a tolerance)\n",
    "# diff_mask = torch.isclose(K, K_hat, atol=1e-2, rtol=1e-2)\n"
   ]
  },
  {
   "cell_type": "markdown",
   "id": "07ef31be-03b6-44e6-a8a0-5e45d96db48f",
   "metadata": {},
   "source": [
    "## Experiments: Measuring Efficiency of Low-Rank Approximations}\n",
    "\n",
    "We begin by evaluating the computational benefits of replacing full Kronecker product matrices with low-rank approximations in probabilistic circuit inference.\n",
    "\n",
    "Our baseline implementation relies on the $\\texttt{TorchKroneckerParameter}$ module in the Cirkit model, which internally uses $\\texttt{torch.kron}$ to represent high-dimensional Kronecker-structured weight matrices. We compare this with a modified version outlined at the start of the notebook. The following experiments are conducted:\n",
    "\n",
    "\n",
    "**Experiment 1: Compute Efficiency (FLOPs and Time).**\n",
    "\n",
    "\n",
    "\n",
    "We measure the number of floating-point operations (FLOPs) and wall-clock time required to perform inference with the full Kronecker product versus its low-rank approximation. These metrics allow us to assess whether the theoretical complexity reduction from $\\mathcal{O}(n^d)$ to $\\mathcal{O}(drn)$ (assuming $r \\ll n$) translates into practical runtime improvements. FLOP counts and timing are recorded for varying matrix dimensions and approximation ranks.\n",
    "\n",
    "\n",
    "\n",
    "**Experiment 2: Memory Usage.**\n",
    "\n",
    "\n",
    "\n",
    "We measure peak memory consumption during inference to evaluate whether the low-rank parameterization provides practical memory savings. Since \\texttt{torch.kron} in the baseline implicitly materializes large intermediate tensors, we expect the low-rank form—which avoids explicitly storing the full Kronecker product—to yield significant reductions in memory footprint. We track both CPU and GPU memory usage where applicable.\n",
    "\n",
    "These experiments establish a foundational performance comparison between the full Kronecker baseline and its low-rank approximation. In future work, we will extend this comparison to additional structured approximation methods, including tensor decompositions and randomized low-rank projection techniques.\n"
   ]
  },
  {
   "cell_type": "markdown",
   "id": "378957a0",
   "metadata": {},
   "source": [
    "\n",
    "## 4&nbsp;&nbsp;Benchmarks (to be completed)\n",
    "\n",
    "Benchmarks:\n",
    "\n",
    "1. Peak Memory Usage\n",
    "2. FLOPS\n",
    "3. Inference Time (.forward)\n",
    "4. Report relative Frobenius‑norm errors.\n",
    "\n",
    "\n",
    "\n",
    "\n",
    "Variables being changed:\n",
    "1. Size of K (matrix we are approximating)\n",
    "2. Size of subsample (pivot_idx)\n",
    "3. Method of generating pivot_idx (Later date)\n",
    "\n",
    "| size \\(K\\) | rank \\(len(pivot_idx)\\) | **cirkit-kron** time (ms) | **cirkit-kron** memory (MB) | **cirkit-kron** FLOPS |  **nys** time (ms) | **nys** memory (MB) |**nys** FLOPS | rel. error |\n",
    "|-----------:|-----------:|-------------------:|---------------------:|------------------:|------------------:|------------------:|---------------------:|-----------:|\n",
    "|   |   |   |   |   |   |   |\n"
   ]
  },
  {
   "cell_type": "markdown",
   "id": "e29474a8-2746-4211-bd03-cc835e5a33bc",
   "metadata": {},
   "source": [
    "### TorchKroneckerParameter Instantiation function"
   ]
  },
  {
   "cell_type": "code",
   "execution_count": 6,
   "id": "e9883dfa-2aa7-486e-a094-3f738bf514df",
   "metadata": {},
   "outputs": [],
   "source": [
    "import cirkit.symbolic.functional as SF\n",
    "from cirkit.symbolic.io import plot_circuit\n",
    "from cirkit.pipeline import PipelineContext\n",
    "from helpers import define_circuit_one_sum\n",
    "\n",
    "def build_and_compile_circuit(input_units: int, sum_units: int):\n",
    "    \"\"\"\n",
    "    Build a one‐sum circuit with the given number of input and sum units,\n",
    "    compile it in a sum‐product semiring, and return only the compiled circuit.\n",
    "    All intermediate variables are deleted before returning.\n",
    "    \"\"\"\n",
    "    # Build symbolic network\n",
    "    net = define_circuit_one_sum(input_units, sum_units)\n",
    "\n",
    "    # Compile network to a torch backend\n",
    "    ctx = PipelineContext(\n",
    "        backend=\"torch\",\n",
    "        semiring=\"sum-product\",\n",
    "        fold=False,\n",
    "        optimize=False\n",
    "    )\n",
    "    cc = ctx.compile(net).cpu().eval()\n",
    "\n",
    "    # Build and plot the partition‐function circuit\n",
    "    symbolic_circuit_partition_func = SF.multiply(net, net)\n",
    "    plot_circuit(symbolic_circuit_partition_func)\n",
    "\n",
    "    # Compile the partition function circuit\n",
    "    csc = ctx.compile(symbolic_circuit_partition_func)\n",
    "\n",
    "    # (Optional) inspect a particular parameter\n",
    "    kronparameter = csc.layers[1].weight._nodes[4]\n",
    "\n",
    "    # Delete everything except the result\n",
    "    del net, cc, ctx, symbolic_circuit_partition_func, kronparameter\n",
    "    return csc\n"
   ]
  },
  {
   "cell_type": "markdown",
   "id": "d2762361-e107-45e0-9a8e-5835aaa102a3",
   "metadata": {},
   "source": [
    "### Low Rank Approximation build"
   ]
  },
  {
   "cell_type": "markdown",
   "id": "70774a7f-b66c-4345-bb1e-7f8395004e55",
   "metadata": {},
   "source": [
    "### Benchmark 1: Peak Memory Usage"
   ]
  },
  {
   "cell_type": "code",
   "execution_count": 7,
   "id": "558d836c-ed2f-4fae-81a0-802b5fd214a0",
   "metadata": {},
   "outputs": [
    {
     "name": "stdout",
     "output_type": "stream",
     "text": [
      "torch.Size([1, 400, 1600])\n"
     ]
    }
   ],
   "source": [
    "import copy \n",
    "csc = build_and_compile_circuit(40,20)\n",
    "csc2=copy.deepcopy(csc)\n",
    "print(csc.layers[1].weight().shape)"
   ]
  },
  {
   "cell_type": "code",
   "execution_count": 8,
   "id": "cbb44429-4c7f-4f82-b2e0-92b640ede116",
   "metadata": {
    "editable": true,
    "slideshow": {
     "slide_type": ""
    },
    "tags": []
   },
   "outputs": [
    {
     "name": "stdout",
     "output_type": "stream",
     "text": [
      "✅ replaced _nodes.1 -> NystromSumLayer(rank=32)\n",
      "_nodes.1: real type -> NystromSumLayer\n"
     ]
    }
   ],
   "source": [
    "# --- 1. Imports --------------------------------------------------------------\n",
    "import torch.nn as nn\n",
    "from cirkit.backend.torch.layers.inner import TorchSumLayer        # the baseline\n",
    "from nystromlayer import NystromSumLayer                           # your wrapper\n",
    "\n",
    "# --- 2. Recursive graph-walk -------------------------------------------------\n",
    "def replace_sum_layers(module: nn.Module, *, rank: int) -> None:\n",
    "    \"\"\"\n",
    "    Walk `module` and in-place replace every TorchSumLayer with NystromSumLayer\n",
    "    of the same weight but compressed to the given Nyström rank.\n",
    "\n",
    "    Parameters\n",
    "    ----------\n",
    "    module : nn.Module         # csc, or any sub-module\n",
    "    rank   : int               # target Nyström rank `s`\n",
    "    \"\"\"\n",
    "    for name, child in list(module.named_children()):              # `named_children` → immediate submodules :contentReference[oaicite:0]{index=0}\n",
    "        if isinstance(child, TorchSumLayer):\n",
    "            # swap in-place – the trick suggested in the PyTorch forums :contentReference[oaicite:1]{index=1}\n",
    "            setattr(module, name, NystromSumLayer(child, rank=rank))\n",
    "        else:\n",
    "            # descend the tree (recursion pattern used in StackOverflow example) :contentReference[oaicite:2]{index=2}\n",
    "            replace_sum_layers(child, rank=rank)\n",
    "\n",
    "# --- 3. Run it on the circuit ------------------------------------------------\n",
    "NYSTROM_RANK = 32          # <- pick your desired s\n",
    "replace_sum_layers(csc, rank=NYSTROM_RANK)\n",
    "\n",
    "# --- 4. (Optional) sanity check ---------------------------------------------\n",
    "for n, m in csc.named_modules():\n",
    "    if isinstance(m, NystromSumLayer):\n",
    "        print(f\"✅ replaced {n} -> NystromSumLayer(rank={m.rank})\")\n",
    "for name, mod in csc.named_modules():\n",
    "    if isinstance(mod, TorchSumLayer):\n",
    "        print(f\"{name}: real type -> {mod.__class__.__name__}\")\n",
    "\n"
   ]
  },
  {
   "cell_type": "code",
   "execution_count": 9,
   "id": "89b98d42-243a-4138-a3ec-bed1fd852c28",
   "metadata": {
    "editable": true,
    "slideshow": {
     "slide_type": ""
    },
    "tags": []
   },
   "outputs": [
    {
     "name": "stdout",
     "output_type": "stream",
     "text": [
      "_nodes.1: YES (rank=32)\n",
      "torch.Size([1, 400, 32]) torch.Size([1, 1600, 32])\n",
      "U shape (F,Ko,Ki): torch.Size([1, 400, 32])\n",
      "V shape (F,H·Ki,Ki): torch.Size([1, 1600, 32])\n",
      "🔧 Computed weight with shape (1, 400, 1600)\n",
      "tensor([[[ 3.2203e-04,  1.0225e-04,  7.4338e-04,  ...,  1.1767e-03,\n",
      "           7.5106e-03,  5.4840e-04],\n",
      "         [ 6.6349e-04,  8.1702e-05,  1.1621e-04,  ...,  9.6816e-05,\n",
      "           2.4536e-04,  1.7268e-03],\n",
      "         [ 3.6874e-04,  6.4085e-04,  1.3021e-04,  ...,  1.2270e-03,\n",
      "           1.4315e-04,  6.2152e-04],\n",
      "         ...,\n",
      "         [ 2.5490e-05,  6.7612e-04,  6.0353e-05,  ..., -3.6356e-04,\n",
      "           2.5488e-03, -1.2135e-03],\n",
      "         [ 1.4703e-04,  1.3637e-04,  2.9739e-04,  ...,  3.0809e-03,\n",
      "          -1.7903e-02,  2.3790e-02],\n",
      "         [ 1.1203e-04,  4.8266e-05,  4.8334e-05,  ...,  3.7911e-03,\n",
      "          -3.3755e-02,  4.3092e-02]]], grad_fn=<ViewBackward0>)\n"
     ]
    }
   ],
   "source": [
    "for name, mod in csc.named_modules():\n",
    "    if isinstance(mod, NystromSumLayer):\n",
    "        print(f\"{name}: YES (rank={mod.rank})\")\n",
    "print(csc.layers[1].U.shape,csc.layers[1].V.shape)\n",
    "print(csc.layers[1].weight)\n"
   ]
  },
  {
   "cell_type": "code",
   "execution_count": 10,
   "id": "72a46095-32a1-4816-90a7-69fb6cbfa659",
   "metadata": {},
   "outputs": [
    {
     "name": "stdout",
     "output_type": "stream",
     "text": [
      "torch.Size([2, 1, 400])\n",
      "torch.Size([2, 1, 400])\n"
     ]
    }
   ],
   "source": [
    "print(csc(torch.tensor([[1],[2]])).shape)\n",
    "print(csc2(torch.tensor([[1],[2]])).shape)"
   ]
  }
 ],
 "metadata": {
  "kernelspec": {
   "display_name": "Python 3 (ipykernel)",
   "language": "python",
   "name": "python3"
  },
  "language_info": {
   "codemirror_mode": {
    "name": "ipython",
    "version": 3
   },
   "file_extension": ".py",
   "mimetype": "text/x-python",
   "name": "python",
   "nbconvert_exporter": "python",
   "pygments_lexer": "ipython3",
   "version": "3.12.10"
  }
 },
 "nbformat": 4,
 "nbformat_minor": 5
}
